{
 "cells": [
  {
   "cell_type": "markdown",
   "metadata": {},
   "source": [
    "## Project for Water XYZ"
   ]
  },
  {
   "cell_type": "code",
   "execution_count": 1,
   "metadata": {},
   "outputs": [
    {
     "data": {
      "text/plain": [
       "'C:\\\\Users\\\\robst\\\\Desktop\\\\data'"
      ]
     },
     "execution_count": 1,
     "metadata": {},
     "output_type": "execute_result"
    }
   ],
   "source": [
    "pwd"
   ]
  },
  {
   "cell_type": "code",
   "execution_count": 2,
   "metadata": {},
   "outputs": [],
   "source": [
    "import os\n",
    "import numpy"
   ]
  },
  {
   "cell_type": "code",
   "execution_count": 3,
   "metadata": {},
   "outputs": [
    {
     "name": "stdout",
     "output_type": "stream",
     "text": [
      "[['O' '0.000000' '-0.007156' '0.965491']\n",
      " ['H1' '-0.000000' '0.001486' '-0.003471']\n",
      " ['H2' '0.000000' '0.931026' '1.207929']]\n"
     ]
    }
   ],
   "source": [
    "water_file = os.path.join('water.xyz')\n",
    "distances = numpy.genfromtxt(fname = water_file, dtype = 'unicode', skip_header = 2)\n",
    "print(distances)"
   ]
  },
  {
   "cell_type": "code",
   "execution_count": 4,
   "metadata": {},
   "outputs": [
    {
     "name": "stdout",
     "output_type": "stream",
     "text": [
      "O\n",
      "H1\n",
      "H2\n"
     ]
    }
   ],
   "source": [
    "for num in distances:\n",
    "    title = num[0]\n",
    "    print(title)"
   ]
  },
  {
   "cell_type": "code",
   "execution_count": 5,
   "metadata": {},
   "outputs": [
    {
     "name": "stdout",
     "output_type": "stream",
     "text": [
      "O to O : 0.0\n",
      "O to H1 : 0.9690005374652793\n",
      "O to H2 : 0.9690003348647513\n",
      "H1 to O : 0.9690005374652793\n",
      "H1 to H1 : 0.0\n",
      "H1 to H2 : 1.52693633514957\n",
      "H2 to O : 0.9690003348647513\n",
      "H2 to H1 : 1.52693633514957\n",
      "H2 to H2 : 0.0\n"
     ]
    }
   ],
   "source": [
    "#this calculates all of the bond distances using the distance formula\n",
    "title = distances[:,0]\n",
    "for num1 in range(0,3):\n",
    "    x1 = float(distances[num1,1])\n",
    "    y1 = float(distances[num1,2])\n",
    "    z1 = float(distances[num1,3])\n",
    "    for num2 in range(0,3):\n",
    "        x2 = float(distances[num2,1])\n",
    "        y2 = float(distances[num2,2])\n",
    "        z2 = float(distances[num2,3])\n",
    "        distance = numpy.sqrt((x2-x1)**2+(y2-y1)**2+(z2-z1)**2)\n",
    "        print(title[num1], 'to' ,title[num2], ':',distance)\n",
    "    "
   ]
  },
  {
   "cell_type": "code",
   "execution_count": 6,
   "metadata": {},
   "outputs": [
    {
     "name": "stdout",
     "output_type": "stream",
     "text": [
      "['O' 'H1' 'H2']\n"
     ]
    }
   ],
   "source": [
    "print(distances[:,0])"
   ]
  },
  {
   "cell_type": "code",
   "execution_count": 7,
   "metadata": {},
   "outputs": [],
   "source": [
    "#def function_name(parameters):\n",
    "#    *** code goes ***\n",
    "#    return value_to_return"
   ]
  },
  {
   "cell_type": "code",
   "execution_count": 8,
   "metadata": {},
   "outputs": [],
   "source": [
    "def calculate_distance(coords1, coords2):\n",
    "    \"\"\"\n",
    "    This function accepts coordinates of two atoms and calculates the distance between atoms.\n",
    "    \"\"\"\n",
    "    x_distance = coords1[0] - coords2[0]\n",
    "    y_distance = coords1[1] - coords2[1]\n",
    "    z_distance = coords1[2] - coords2[2]\n",
    "    distance_atoms = numpy.sqrt(x_distance**2 + y_distance**2 + z_distance**2)\n",
    "    return distance_atoms"
   ]
  },
  {
   "cell_type": "code",
   "execution_count": 35,
   "metadata": {},
   "outputs": [],
   "source": [
    "def bond_check(distance,minimum,maximum):\n",
    "    \"\"\"\"\n",
    "    Checks a distance to see if its a bond. User specifies minimum and maximum\n",
    "    \"\"\"\n",
    "    if distance > minimum and distance < maximum:\n",
    "        print('true')\n",
    "    else:\n",
    "        print('false')"
   ]
  },
  {
   "cell_type": "code",
   "execution_count": 36,
   "metadata": {},
   "outputs": [],
   "source": [
    "#title = distances[:,0]\n",
    "#distance = distance.astype(numpy.float)\n",
    "#for num1 in range(0,3):\n",
    "#    for num2 in range(0,3):\n",
    "#        if num1 > num2:\n",
    "#            distance_atoms = calculate_distance(distance[num1], distance[num2])\n",
    "#            if distance < 1.5:\n",
    "#                    print(title[num1], 'to' ,title[num2], ':', {distance})"
   ]
  },
  {
   "cell_type": "code",
   "execution_count": 37,
   "metadata": {},
   "outputs": [
    {
     "name": "stdout",
     "output_type": "stream",
     "text": [
      "H1 to O : {0.9690005374652793}\n",
      "H2 to O : {0.9690003348647513}\n"
     ]
    }
   ],
   "source": [
    "#This checks for which bonds are true bonds for their distances\n",
    "title = distances[:,0]\n",
    "for num1 in range(0,3):\n",
    "    x1 = float(distances[num1,1])\n",
    "    y1 = float(distances[num1,2])\n",
    "    z1 = float(distances[num1,3])\n",
    "    for num2 in range(0,3):\n",
    "        if num1 > num2:\n",
    "            x2 = float(distances[num2,1])\n",
    "            y2 = float(distances[num2,2])\n",
    "            z2 = float(distances[num2,3])\n",
    "            distance = numpy.sqrt((x2-x1)**2+(y2-y1)**2+(z2-z1)**2)\n",
    "            if distance < 1.5:\n",
    "                print(title[num1], 'to' ,title[num2], ':', {distance})"
   ]
  },
  {
   "cell_type": "code",
   "execution_count": 49,
   "metadata": {},
   "outputs": [
    {
     "name": "stdout",
     "output_type": "stream",
     "text": [
      "H1 to O : 0.969\n",
      "H2 to O : 0.969\n",
      "H2 to H1 : 1.527\n"
     ]
    }
   ],
   "source": [
    "#this checks how many of the actual bonds are true bonds\n",
    "file_location = os.path.join('water.xyz')\n",
    "xyz_file = numpy.genfromtxt(fname=file_location, skip_header=2, dtype='unicode')\n",
    "symbols = xyz_file[:,0]\n",
    "coordinates = xyz_file[:,1:]\n",
    "coordinates = coordinates.astype(numpy.float)\n",
    "num_atoms = len(symbols)\n",
    "for num1 in range(0, num_atoms):\n",
    "    for num2 in range(0, num_atoms):\n",
    "        if num1 > num2:\n",
    "            distance_12 = calculate_distance(coordinates[num1], coordinates[num2])\n",
    "            if distance_12 < 15:\n",
    "                print(F'{symbols[num1]} to {symbols[num2]} : {distance_12:.3f}')"
   ]
  },
  {
   "cell_type": "code",
   "execution_count": 53,
   "metadata": {},
   "outputs": [
    {
     "name": "stdout",
     "output_type": "stream",
     "text": [
      "true\n",
      "true\n",
      "false\n"
     ]
    }
   ],
   "source": [
    "#this checks how many of the actual bonds are true bonds\n",
    "file_location = os.path.join('water.xyz')\n",
    "xyz_file = numpy.genfromtxt(fname=file_location, skip_header=2, dtype='unicode')\n",
    "symbols = xyz_file[:,0]\n",
    "coordinates = xyz_file[:,1:]\n",
    "coordinates = coordinates.astype(numpy.float)\n",
    "num_atoms = len(symbols)\n",
    "for num1 in range(0, num_atoms):\n",
    "    for num2 in range(0, num_atoms):\n",
    "        if num1 > num2:\n",
    "            distance_12 = calculate_distance(coordinates[num1], coordinates[num2])\n",
    "            if bond_check (distance_12,0,1.5) :\n",
    "                print(F'{symbols[num1]} to {symbols[num2]} : {distance_12:.3f}')"
   ]
  },
  {
   "cell_type": "code",
   "execution_count": null,
   "metadata": {},
   "outputs": [],
   "source": []
  }
 ],
 "metadata": {
  "kernelspec": {
   "display_name": "Python 3",
   "language": "python",
   "name": "python3"
  },
  "language_info": {
   "codemirror_mode": {
    "name": "ipython",
    "version": 3
   },
   "file_extension": ".py",
   "mimetype": "text/x-python",
   "name": "python",
   "nbconvert_exporter": "python",
   "pygments_lexer": "ipython3",
   "version": "3.7.3"
  }
 },
 "nbformat": 4,
 "nbformat_minor": 2
}
